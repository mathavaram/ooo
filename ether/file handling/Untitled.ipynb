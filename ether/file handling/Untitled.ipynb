{
 "cells": [
  {
   "cell_type": "markdown",
   "id": "5a2ad6c2",
   "metadata": {},
   "source": [
    "# inheritanc\n",
    "\n"
   ]
  },
  {
   "cell_type": "markdown",
   "id": "640a20e7",
   "metadata": {},
   "source": [
    "# type : 1single inheritance"
   ]
  },
  {
   "cell_type": "code",
   "execution_count": 2,
   "id": "fcfd285c",
   "metadata": {},
   "outputs": [],
   "source": [
    "class singleA :\n",
    "    \n",
    "    x = 100;\n",
    "    \n",
    "    def calc1(self):\n",
    "        \n",
    "        print(self.x + 200);"
   ]
  },
  {
   "cell_type": "code",
   "execution_count": 3,
   "id": "f37e27a3",
   "metadata": {},
   "outputs": [],
   "source": [
    "class singleB (singleA):\n",
    "    \n",
    "    y = 300;\n",
    "    \n",
    "    def calc2(self):\n",
    "        \n",
    "        print(self.x + self.y);"
   ]
  },
  {
   "cell_type": "code",
   "execution_count": 4,
   "id": "a3e2d932",
   "metadata": {},
   "outputs": [
    {
     "name": "stdout",
     "output_type": "stream",
     "text": [
      "400\n"
     ]
    }
   ],
   "source": [
    "sb = singleB();\n",
    "\n",
    "sb.calc2();"
   ]
  },
  {
   "cell_type": "code",
   "execution_count": null,
   "id": "7e423e4e",
   "metadata": {},
   "outputs": [],
   "source": []
  },
  {
   "cell_type": "code",
   "execution_count": null,
   "id": "2161a4e9",
   "metadata": {},
   "outputs": [],
   "source": []
  }
 ],
 "metadata": {
  "kernelspec": {
   "display_name": "Python 3 (ipykernel)",
   "language": "python",
   "name": "python3"
  },
  "language_info": {
   "codemirror_mode": {
    "name": "ipython",
    "version": 3
   },
   "file_extension": ".py",
   "mimetype": "text/x-python",
   "name": "python",
   "nbconvert_exporter": "python",
   "pygments_lexer": "ipython3",
   "version": "3.9.13"
  }
 },
 "nbformat": 4,
 "nbformat_minor": 5
}
