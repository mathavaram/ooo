{
 "cells": [
  {
   "cell_type": "code",
   "execution_count": 1,
   "id": "12f95f01",
   "metadata": {},
   "outputs": [
    {
     "name": "stdout",
     "output_type": "stream",
     "text": [
      "welcome to python\n"
     ]
    }
   ],
   "source": [
    "print(\"welcome to python\");"
   ]
  },
  {
   "cell_type": "markdown",
   "id": "f7562123",
   "metadata": {},
   "source": [
    "# Anaconda"
   ]
  },
  {
   "cell_type": "code",
   "execution_count": 2,
   "id": "c0bc7b09",
   "metadata": {},
   "outputs": [
    {
     "name": "stdout",
     "output_type": "stream",
     "text": [
      "def\n"
     ]
    }
   ],
   "source": [
    "name = \"def\";\n",
    "print (name);"
   ]
  },
  {
   "cell_type": "code",
   "execution_count": 4,
   "id": "1c2af389",
   "metadata": {},
   "outputs": [],
   "source": [
    "name1 = \"gowtham\";"
   ]
  },
  {
   "cell_type": "code",
   "execution_count": 5,
   "id": "130f6620",
   "metadata": {},
   "outputs": [
    {
     "name": "stdout",
     "output_type": "stream",
     "text": [
      "gowtham\n"
     ]
    }
   ],
   "source": [
    "print (name1);"
   ]
  },
  {
   "cell_type": "code",
   "execution_count": 6,
   "id": "929f0a9a",
   "metadata": {},
   "outputs": [
    {
     "name": "stdout",
     "output_type": "stream",
     "text": [
      "100\n"
     ]
    }
   ],
   "source": [
    "x = 100;\n",
    "print(x);"
   ]
  },
  {
   "cell_type": "code",
   "execution_count": 9,
   "id": "b2f78e5e",
   "metadata": {},
   "outputs": [
    {
     "name": "stdout",
     "output_type": "stream",
     "text": [
      "welcome gowtham\n"
     ]
    }
   ],
   "source": [
    "def display ():\n",
    "    print (\"welcome \" + name1);\n",
    "display();"
   ]
  },
  {
   "cell_type": "code",
   "execution_count": 10,
   "id": "da69f40c",
   "metadata": {},
   "outputs": [
    {
     "name": "stdout",
     "output_type": "stream",
     "text": [
      "50\n"
     ]
    }
   ],
   "source": [
    "y = 100\n",
    "print (y-50);"
   ]
  },
  {
   "cell_type": "code",
   "execution_count": 14,
   "id": "4836e010",
   "metadata": {},
   "outputs": [
    {
     "name": "stdout",
     "output_type": "stream",
     "text": [
      "200\n"
     ]
    }
   ],
   "source": [
    "x=100\n",
    "print (x+y);"
   ]
  },
  {
   "cell_type": "code",
   "execution_count": null,
   "id": "eb24d5ac",
   "metadata": {},
   "outputs": [],
   "source": []
  }
 ],
 "metadata": {
  "kernelspec": {
   "display_name": "Python 3 (ipykernel)",
   "language": "python",
   "name": "python3"
  },
  "language_info": {
   "codemirror_mode": {
    "name": "ipython",
    "version": 3
   },
   "file_extension": ".py",
   "mimetype": "text/x-python",
   "name": "python",
   "nbconvert_exporter": "python",
   "pygments_lexer": "ipython3",
   "version": "3.9.13"
  }
 },
 "nbformat": 4,
 "nbformat_minor": 5
}
