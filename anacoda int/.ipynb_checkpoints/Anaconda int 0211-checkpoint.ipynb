{
 "cells": [
  {
   "cell_type": "code",
   "execution_count": 1,
   "id": "2926da01",
   "metadata": {},
   "outputs": [
    {
     "name": "stdout",
     "output_type": "stream",
     "text": [
      "welcome to python\n"
     ]
    }
   ],
   "source": [
    "print(\"welcome to python\");"
   ]
  },
  {
   "cell_type": "markdown",
   "id": "e9b5f09c",
   "metadata": {},
   "source": [
    "# Anaconda"
   ]
  },
  {
   "cell_type": "code",
   "execution_count": 2,
   "id": "32358483",
   "metadata": {},
   "outputs": [
    {
     "name": "stdout",
     "output_type": "stream",
     "text": [
      "def\n"
     ]
    }
   ],
   "source": [
    "name = \"def\";\n",
    "print (name);"
   ]
  },
  {
   "cell_type": "code",
   "execution_count": 4,
   "id": "210166e5",
   "metadata": {},
   "outputs": [],
   "source": [
    "name1 = \"gowtham\";"
   ]
  },
  {
   "cell_type": "code",
   "execution_count": 5,
   "id": "65b705bf",
   "metadata": {},
   "outputs": [
    {
     "name": "stdout",
     "output_type": "stream",
     "text": [
      "gowtham\n"
     ]
    }
   ],
   "source": [
    "print (name1);"
   ]
  },
  {
   "cell_type": "code",
   "execution_count": 6,
   "id": "57b16062",
   "metadata": {},
   "outputs": [
    {
     "name": "stdout",
     "output_type": "stream",
     "text": [
      "100\n"
     ]
    }
   ],
   "source": [
    "x = 100;\n",
    "print(x);"
   ]
  },
  {
   "cell_type": "code",
   "execution_count": 9,
   "id": "2a93e7c3",
   "metadata": {},
   "outputs": [
    {
     "name": "stdout",
     "output_type": "stream",
     "text": [
      "welcome gowtham\n"
     ]
    }
   ],
   "source": [
    "def display ():\n",
    "    print (\"welcome \" + name1);\n",
    "display();"
   ]
  },
  {
   "cell_type": "code",
   "execution_count": 10,
   "id": "1cd2e07f",
   "metadata": {},
   "outputs": [
    {
     "name": "stdout",
     "output_type": "stream",
     "text": [
      "50\n"
     ]
    }
   ],
   "source": [
    "y = 100\n",
    "print (y-50);"
   ]
  },
  {
   "cell_type": "code",
   "execution_count": 14,
   "id": "acffbbf1",
   "metadata": {},
   "outputs": [
    {
     "name": "stdout",
     "output_type": "stream",
     "text": [
      "200\n"
     ]
    }
   ],
   "source": [
    "x=100\n",
    "print (x+y);"
   ]
  },
  {
   "cell_type": "code",
   "execution_count": null,
   "id": "c1f7aaa2",
   "metadata": {},
   "outputs": [],
   "source": []
  }
 ],
 "metadata": {
  "kernelspec": {
   "display_name": "Python 3 (ipykernel)",
   "language": "python",
   "name": "python3"
  },
  "language_info": {
   "codemirror_mode": {
    "name": "ipython",
    "version": 3
   },
   "file_extension": ".py",
   "mimetype": "text/x-python",
   "name": "python",
   "nbconvert_exporter": "python",
   "pygments_lexer": "ipython3",
   "version": "3.9.13"
  }
 },
 "nbformat": 4,
 "nbformat_minor": 5
}
