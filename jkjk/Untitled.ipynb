{
 "cells": [
  {
   "cell_type": "markdown",
   "id": "3b12555f",
   "metadata": {},
   "source": [
    "# import math"
   ]
  },
  {
   "cell_type": "code",
   "execution_count": 2,
   "id": "2b5e814e",
   "metadata": {},
   "outputs": [
    {
     "data": {
      "text/plain": [
       "0.6502878401571168"
      ]
     },
     "execution_count": 2,
     "metadata": {},
     "output_type": "execute_result"
    }
   ],
   "source": [
    "res1 = math.sin(15);\n",
    "res1"
   ]
  },
  {
   "cell_type": "code",
   "execution_count": 4,
   "id": "c6094131",
   "metadata": {},
   "outputs": [
    {
     "data": {
      "text/plain": [
       "0.9912028118634736"
      ]
     },
     "execution_count": 4,
     "metadata": {},
     "output_type": "execute_result"
    }
   ],
   "source": [
    "res2 = math.cos(25);\n",
    "res2"
   ]
  },
  {
   "cell_type": "code",
   "execution_count": 5,
   "id": "dc17c7ef",
   "metadata": {},
   "outputs": [
    {
     "data": {
      "text/plain": [
       "0.47381472041445105"
      ]
     },
     "execution_count": 5,
     "metadata": {},
     "output_type": "execute_result"
    }
   ],
   "source": [
    "res3 = math.tan(35)\n",
    "res3"
   ]
  },
  {
   "cell_type": "code",
   "execution_count": 6,
   "id": "d33f3ca1",
   "metadata": {},
   "outputs": [
    {
     "data": {
      "text/plain": [
       "0.25268025514207865"
      ]
     },
     "execution_count": 6,
     "metadata": {},
     "output_type": "execute_result"
    }
   ],
   "source": [
    "res4 = math.asin(0.25)\n",
    "res4"
   ]
  },
  {
   "cell_type": "code",
   "execution_count": 7,
   "id": "35e6b98c",
   "metadata": {},
   "outputs": [
    {
     "data": {
      "text/plain": [
       "1.0471975511965979"
      ]
     },
     "execution_count": 7,
     "metadata": {},
     "output_type": "execute_result"
    }
   ],
   "source": [
    "res5 = math.acos(0.5)\n",
    "res5"
   ]
  },
  {
   "cell_type": "code",
   "execution_count": 8,
   "id": "e6aec1b2",
   "metadata": {},
   "outputs": [
    {
     "data": {
      "text/plain": [
       "0.33667481938672716"
      ]
     },
     "execution_count": 8,
     "metadata": {},
     "output_type": "execute_result"
    }
   ],
   "source": [
    "res6 = math.atan(0.35)\n",
    "res6"
   ]
  },
  {
   "cell_type": "code",
   "execution_count": 11,
   "id": "ac55a2c7",
   "metadata": {},
   "outputs": [
    {
     "data": {
      "text/plain": [
       "25.0"
      ]
     },
     "execution_count": 11,
     "metadata": {},
     "output_type": "execute_result"
    }
   ],
   "source": [
    "res7 = math.sqrt(625)\n",
    "res7"
   ]
  },
  {
   "cell_type": "code",
   "execution_count": 12,
   "id": "6e06e2b3",
   "metadata": {},
   "outputs": [
    {
     "data": {
      "text/plain": [
       "10000.0"
      ]
     },
     "execution_count": 12,
     "metadata": {},
     "output_type": "execute_result"
    }
   ],
   "source": [
    "res8 = math.pow(10,4)\n",
    "res8"
   ]
  },
  {
   "cell_type": "code",
   "execution_count": 13,
   "id": "cc7086a1",
   "metadata": {},
   "outputs": [
    {
     "data": {
      "text/plain": [
       "2.995732273553991"
      ]
     },
     "execution_count": 13,
     "metadata": {},
     "output_type": "execute_result"
    }
   ],
   "source": [
    "res9 = math.log(20)\n",
    "res9"
   ]
  },
  {
   "cell_type": "code",
   "execution_count": 14,
   "id": "9677b431",
   "metadata": {},
   "outputs": [
    {
     "data": {
      "text/plain": [
       "1.0"
      ]
     },
     "execution_count": 14,
     "metadata": {},
     "output_type": "execute_result"
    }
   ],
   "source": [
    "res10 = math.log2(2)\n",
    "res10"
   ]
  },
  {
   "cell_type": "code",
   "execution_count": 15,
   "id": "f57acd5a",
   "metadata": {},
   "outputs": [
    {
     "data": {
      "text/plain": [
       "6"
      ]
     },
     "execution_count": 15,
     "metadata": {},
     "output_type": "execute_result"
    }
   ],
   "source": [
    "res11 = math.ceil(5.5)\n",
    "res11"
   ]
  },
  {
   "cell_type": "code",
   "execution_count": 16,
   "id": "ec816c6e",
   "metadata": {},
   "outputs": [
    {
     "data": {
      "text/plain": [
       "5"
      ]
     },
     "execution_count": 16,
     "metadata": {},
     "output_type": "execute_result"
    }
   ],
   "source": [
    "res12 = math.floor(5.4)\n",
    "res12"
   ]
  },
  {
   "cell_type": "code",
   "execution_count": 17,
   "id": "378958bc",
   "metadata": {},
   "outputs": [
    {
     "data": {
      "text/plain": [
       "65.0"
      ]
     },
     "execution_count": 17,
     "metadata": {},
     "output_type": "execute_result"
    }
   ],
   "source": [
    "res13 = math.fabs(-65)\n",
    "res13"
   ]
  },
  {
   "cell_type": "code",
   "execution_count": 28,
   "id": "5dc81dcc",
   "metadata": {},
   "outputs": [],
   "source": [
    "import random"
   ]
  },
  {
   "cell_type": "code",
   "execution_count": 29,
   "id": "43a2e238",
   "metadata": {},
   "outputs": [
    {
     "data": {
      "text/plain": [
       "0.7235514237098837"
      ]
     },
     "execution_count": 29,
     "metadata": {},
     "output_type": "execute_result"
    }
   ],
   "source": [
    "res18 = random.random();\n",
    "res18"
   ]
  },
  {
   "cell_type": "code",
   "execution_count": 30,
   "id": "d48f35d5",
   "metadata": {},
   "outputs": [
    {
     "data": {
      "text/plain": [
       "0.7611941420631329"
      ]
     },
     "execution_count": 30,
     "metadata": {},
     "output_type": "execute_result"
    }
   ],
   "source": [
    "res19 = random.random();\n",
    "res19"
   ]
  },
  {
   "cell_type": "code",
   "execution_count": 31,
   "id": "4c32bfeb",
   "metadata": {},
   "outputs": [
    {
     "data": {
      "text/plain": [
       "171.08710678104893"
      ]
     },
     "execution_count": 31,
     "metadata": {},
     "output_type": "execute_result"
    }
   ],
   "source": [
    "res20 = random.uniform(100,200);\n",
    "res20"
   ]
  },
  {
   "cell_type": "code",
   "execution_count": 26,
   "id": "2389c57d",
   "metadata": {},
   "outputs": [],
   "source": [
    "import random"
   ]
  },
  {
   "cell_type": "code",
   "execution_count": 27,
   "id": "f58b1625",
   "metadata": {},
   "outputs": [
    {
     "data": {
      "text/plain": [
       "0.5652962457316759"
      ]
     },
     "execution_count": 27,
     "metadata": {},
     "output_type": "execute_result"
    }
   ],
   "source": [
    "res21 = random.random(100,200)\n",
    "res21"
   ]
  },
  {
   "cell_type": "code",
   "execution_count": 35,
   "id": "877221d9",
   "metadata": {},
   "outputs": [
    {
     "data": {
      "text/plain": [
       "275"
      ]
     },
     "execution_count": 35,
     "metadata": {},
     "output_type": "execute_result"
    }
   ],
   "source": [
    "res22 = random.randint(100,350)\n",
    "res22"
   ]
  },
  {
   "cell_type": "code",
   "execution_count": 36,
   "id": "3352162a",
   "metadata": {},
   "outputs": [
    {
     "data": {
      "text/plain": [
       "3929"
      ]
     },
     "execution_count": 36,
     "metadata": {},
     "output_type": "execute_result"
    }
   ],
   "source": [
    "res23 = random.randrange(5000)\n",
    "res23"
   ]
  },
  {
   "cell_type": "code",
   "execution_count": 40,
   "id": "da2a5f7d",
   "metadata": {},
   "outputs": [],
   "source": [
    "lst = [\"cat\",\"dog\",\"horse\",\"duck\",\"lion\",\"tiger\"];\n"
   ]
  },
  {
   "cell_type": "code",
   "execution_count": 42,
   "id": "e66019d7",
   "metadata": {},
   "outputs": [
    {
     "data": {
      "text/plain": [
       "'tiger'"
      ]
     },
     "execution_count": 42,
     "metadata": {},
     "output_type": "execute_result"
    }
   ],
   "source": [
    "res24 = random.choice(lst)\n",
    "res24"
   ]
  },
  {
   "cell_type": "code",
   "execution_count": null,
   "id": "9037b6d0",
   "metadata": {},
   "outputs": [],
   "source": [
    "res25 = random.shuffle(lst)\n",
    "res25()"
   ]
  },
  {
   "cell_type": "code",
   "execution_count": null,
   "id": "f0b1dc7b",
   "metadata": {},
   "outputs": [],
   "source": []
  }
 ],
 "metadata": {
  "kernelspec": {
   "display_name": "Python 3 (ipykernel)",
   "language": "python",
   "name": "python3"
  },
  "language_info": {
   "codemirror_mode": {
    "name": "ipython",
    "version": 3
   },
   "file_extension": ".py",
   "mimetype": "text/x-python",
   "name": "python",
   "nbconvert_exporter": "python",
   "pygments_lexer": "ipython3",
   "version": "3.9.13"
  }
 },
 "nbformat": 4,
 "nbformat_minor": 5
}
