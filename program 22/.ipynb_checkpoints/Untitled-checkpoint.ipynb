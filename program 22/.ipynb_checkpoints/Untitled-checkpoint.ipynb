{
 "cells": [
  {
   "cell_type": "code",
   "execution_count": 2,
   "id": "8a500774",
   "metadata": {},
   "outputs": [],
   "source": [
    "import math"
   ]
  },
  {
   "cell_type": "code",
   "execution_count": 8,
   "id": "1bda74f1",
   "metadata": {},
   "outputs": [
    {
     "data": {
      "text/plain": [
       "0.6502878401571168"
      ]
     },
     "execution_count": 8,
     "metadata": {},
     "output_type": "execute_result"
    }
   ],
   "source": [
    "res1 = math.sin(15);\n",
    "res1"
   ]
  },
  {
   "cell_type": "code",
   "execution_count": 9,
   "id": "94ba627a",
   "metadata": {},
   "outputs": [
    {
     "data": {
      "text/plain": [
       "-0.7596879128588213"
      ]
     },
     "execution_count": 9,
     "metadata": {},
     "output_type": "execute_result"
    }
   ],
   "source": [
    "res2 = math.cos(15);\n",
    "res2"
   ]
  },
  {
   "cell_type": "raw",
   "id": "d21d6b08",
   "metadata": {},
   "source": [
    "res4 = math.asin(1.5);\n",
    "res4"
   ]
  },
  {
   "cell_type": "markdown",
   "id": "43427228",
   "metadata": {},
   "source": [
    "res4 "
   ]
  },
  {
   "cell_type": "code",
   "execution_count": 10,
   "id": "9064026c",
   "metadata": {},
   "outputs": [
    {
     "ename": "NameError",
     "evalue": "name 'res4' is not defined",
     "output_type": "error",
     "traceback": [
      "\u001b[1;31m---------------------------------------------------------------------------\u001b[0m",
      "\u001b[1;31mNameError\u001b[0m                                 Traceback (most recent call last)",
      "\u001b[1;32m~\\AppData\\Local\\Temp\\ipykernel_10264\\3970482181.py\u001b[0m in \u001b[0;36m<module>\u001b[1;34m\u001b[0m\n\u001b[1;32m----> 1\u001b[1;33m \u001b[0mres4\u001b[0m\u001b[1;33m\u001b[0m\u001b[1;33m\u001b[0m\u001b[0m\n\u001b[0m",
      "\u001b[1;31mNameError\u001b[0m: name 'res4' is not defined"
     ]
    }
   ],
   "source": [
    "res4"
   ]
  },
  {
   "cell_type": "code",
   "execution_count": 12,
   "id": "5b1c966f",
   "metadata": {},
   "outputs": [
    {
     "data": {
      "text/plain": [
       "0.5235987755982989"
      ]
     },
     "execution_count": 12,
     "metadata": {},
     "output_type": "execute_result"
    }
   ],
   "source": [
    "res4 = math.asin(0.5);\n",
    "res4"
   ]
  },
  {
   "cell_type": "code",
   "execution_count": 13,
   "id": "e25294e8",
   "metadata": {},
   "outputs": [],
   "source": [
    "res5 = math.sqrt(500);"
   ]
  },
  {
   "cell_type": "code",
   "execution_count": 14,
   "id": "60d74685",
   "metadata": {},
   "outputs": [
    {
     "data": {
      "text/plain": [
       "22.360679774997898"
      ]
     },
     "execution_count": 14,
     "metadata": {},
     "output_type": "execute_result"
    }
   ],
   "source": [
    "res5"
   ]
  },
  {
   "cell_type": "code",
   "execution_count": 15,
   "id": "37a2d7e9",
   "metadata": {},
   "outputs": [
    {
     "data": {
      "text/plain": [
       "10000000000.0"
      ]
     },
     "execution_count": 15,
     "metadata": {},
     "output_type": "execute_result"
    }
   ],
   "source": [
    "res6 = math.pow(100,5);\n",
    "res6"
   ]
  },
  {
   "cell_type": "code",
   "execution_count": 16,
   "id": "5dbaf53d",
   "metadata": {},
   "outputs": [
    {
     "data": {
      "text/plain": [
       "2.302585092994046"
      ]
     },
     "execution_count": 16,
     "metadata": {},
     "output_type": "execute_result"
    }
   ],
   "source": [
    "res7 = math.log(10);\n",
    "res7"
   ]
  },
  {
   "cell_type": "code",
   "execution_count": 19,
   "id": "87430e3a",
   "metadata": {},
   "outputs": [
    {
     "data": {
      "text/plain": [
       "6"
      ]
     },
     "execution_count": 19,
     "metadata": {},
     "output_type": "execute_result"
    }
   ],
   "source": [
    "res8 = math.ceil(5.6);\n",
    "res8"
   ]
  },
  {
   "cell_type": "code",
   "execution_count": 18,
   "id": "e7664001",
   "metadata": {},
   "outputs": [
    {
     "data": {
      "text/plain": [
       "7"
      ]
     },
     "execution_count": 18,
     "metadata": {},
     "output_type": "execute_result"
    }
   ],
   "source": [
    "res9 = math.floor(7.5);\n",
    "res9"
   ]
  },
  {
   "cell_type": "code",
   "execution_count": 21,
   "id": "41647f5a",
   "metadata": {},
   "outputs": [
    {
     "data": {
      "text/plain": [
       "5.0"
      ]
     },
     "execution_count": 21,
     "metadata": {},
     "output_type": "execute_result"
    }
   ],
   "source": [
    "res10 = math.fabs(-5);\n",
    "res10"
   ]
  },
  {
   "cell_type": "code",
   "execution_count": 22,
   "id": "498c9e94",
   "metadata": {},
   "outputs": [],
   "source": [
    "import random\n"
   ]
  },
  {
   "cell_type": "code",
   "execution_count": 33,
   "id": "fcd3f5d4",
   "metadata": {},
   "outputs": [
    {
     "data": {
      "text/plain": [
       "0.723863298138919"
      ]
     },
     "execution_count": 33,
     "metadata": {},
     "output_type": "execute_result"
    }
   ],
   "source": [
    "res11 = random.random();\n",
    "res11"
   ]
  },
  {
   "cell_type": "raw",
   "id": "7af4c219",
   "metadata": {},
   "source": []
  },
  {
   "cell_type": "code",
   "execution_count": 34,
   "id": "c121accc",
   "metadata": {},
   "outputs": [
    {
     "ename": "AttributeError",
     "evalue": "module 'random' has no attribute 'unfirom'",
     "output_type": "error",
     "traceback": [
      "\u001b[1;31m---------------------------------------------------------------------------\u001b[0m",
      "\u001b[1;31mAttributeError\u001b[0m                            Traceback (most recent call last)",
      "\u001b[1;32m~\\AppData\\Local\\Temp\\ipykernel_10264\\660985280.py\u001b[0m in \u001b[0;36m<module>\u001b[1;34m\u001b[0m\n\u001b[1;32m----> 1\u001b[1;33m \u001b[0mres12\u001b[0m \u001b[1;33m=\u001b[0m \u001b[0mrandom\u001b[0m\u001b[1;33m.\u001b[0m\u001b[0munfirom\u001b[0m\u001b[1;33m(\u001b[0m\u001b[1;36m100\u001b[0m\u001b[1;33m,\u001b[0m\u001b[1;36m200\u001b[0m\u001b[1;33m)\u001b[0m\u001b[1;33m;\u001b[0m\u001b[1;33m\u001b[0m\u001b[1;33m\u001b[0m\u001b[0m\n\u001b[0m\u001b[0;32m      2\u001b[0m \u001b[0mres12\u001b[0m\u001b[1;33m\u001b[0m\u001b[1;33m\u001b[0m\u001b[0m\n",
      "\u001b[1;31mAttributeError\u001b[0m: module 'random' has no attribute 'unfirom'"
     ]
    }
   ],
   "source": [
    "res12 = random.unfirom(100,200);\n",
    "res12"
   ]
  },
  {
   "cell_type": "code",
   "execution_count": 42,
   "id": "470132f8",
   "metadata": {},
   "outputs": [
    {
     "data": {
      "text/plain": [
       "185.29791278831846"
      ]
     },
     "execution_count": 42,
     "metadata": {},
     "output_type": "execute_result"
    }
   ],
   "source": [
    "res13 = random.uniform(100,200);\n",
    "res13"
   ]
  },
  {
   "cell_type": "code",
   "execution_count": null,
   "id": "a5989f2c",
   "metadata": {},
   "outputs": [],
   "source": []
  },
  {
   "cell_type": "code",
   "execution_count": 43,
   "id": "38bbf984",
   "metadata": {},
   "outputs": [
    {
     "data": {
      "text/plain": [
       "114"
      ]
     },
     "execution_count": 43,
     "metadata": {},
     "output_type": "execute_result"
    }
   ],
   "source": [
    "res14 = random.randint(100,200);\n",
    "res14"
   ]
  },
  {
   "cell_type": "code",
   "execution_count": 41,
   "id": "eb8ea2e5",
   "metadata": {},
   "outputs": [
    {
     "data": {
      "text/plain": [
       "875"
      ]
     },
     "execution_count": 41,
     "metadata": {},
     "output_type": "execute_result"
    }
   ],
   "source": [
    "res15 = random.randrange(1000);\n",
    "res15"
   ]
  },
  {
   "cell_type": "code",
   "execution_count": null,
   "id": "5305e5ad",
   "metadata": {},
   "outputs": [],
   "source": []
  }
 ],
 "metadata": {
  "kernelspec": {
   "display_name": "Python 3 (ipykernel)",
   "language": "python",
   "name": "python3"
  },
  "language_info": {
   "codemirror_mode": {
    "name": "ipython",
    "version": 3
   },
   "file_extension": ".py",
   "mimetype": "text/x-python",
   "name": "python",
   "nbconvert_exporter": "python",
   "pygments_lexer": "ipython3",
   "version": "3.9.13"
  }
 },
 "nbformat": 4,
 "nbformat_minor": 5
}
